{
 "cells": [
  {
   "cell_type": "markdown",
   "metadata": {},
   "source": [
    "# Código fonte do arquivo pyqt1.py"
   ]
  },
  {
   "cell_type": "code",
   "execution_count": 1,
   "metadata": {},
   "outputs": [
    {
     "output_type": "stream",
     "name": "stdout",
     "text": "Adeus\n"
    },
    {
     "output_type": "execute_result",
     "data": {
      "text/plain": "0"
     },
     "metadata": {},
     "execution_count": 1
    }
   ],
   "source": [
    "import sys\n",
    "from PyQt5.QtGui import QPalette\n",
    "from PyQt5.QtWidgets import QApplication, QMainWindow\n",
    "from PyQt5.QtCore import Qt\n",
    "\n",
    "def adeus(x):\n",
    "    print(\"Adeus\")\n",
    "    app.quit()\n",
    "\n",
    "app = QApplication(sys.argv)\n",
    "# Criando uma janela\n",
    "window = QMainWindow()\n",
    "window.setFixedSize(640,480)\n",
    "window.setWindowTitle(\"Janela Azul\")\n",
    "# Setando as cores\n",
    "cores = QPalette(app.palette(window))\n",
    "cores.setColor(QPalette.Window, Qt.darkRed)\n",
    "window.setPalette(cores)\n",
    "# Tornando a janela visivel\n",
    "window.show()\n",
    "# Setando o que ocorre no fechamento da janela\n",
    "window.closeEvent = adeus\n",
    "# finaliza a interface\n",
    "app.exec()"
   ]
  },
  {
   "cell_type": "markdown",
   "metadata": {},
   "source": [
    "# Código fonte do arquivo pyqt2.py"
   ]
  },
  {
   "cell_type": "code",
   "execution_count": 1,
   "metadata": {},
   "outputs": [
    {
     "output_type": "stream",
     "name": "stdout",
     "text": "Trabalhando...\nTrabalhando...\nTrabalhando...\nTrabalhando...\nTrabalhando...\nTrabalhando...\nTrabalhando...\nTrabalhando...\nTrabalhando...\nTrabalhando...\nTrabalhando...\nTrabalhando...\nTrabalhando...\nTrabalhando...\nTrabalhando...\nAdeus\n"
    },
    {
     "output_type": "execute_result",
     "data": {
      "text/plain": "0"
     },
     "metadata": {},
     "execution_count": 1
    }
   ],
   "source": [
    "import sys\n",
    "from PyQt5.QtGui import QPalette\n",
    "from PyQt5.QtWidgets import QApplication, QMainWindow, QToolBar, QWidget, QPushButton, QLabel, QTextEdit\n",
    "from PyQt5.QtCore import Qt, QThread, QRunnable\n",
    "\n",
    "def adeus(x):\n",
    "    print(\"Adeus\")\n",
    "    trabalhador.terminate()\n",
    "    app.quit()\n",
    "    \n",
    "def trabalho():\n",
    "    while True:\n",
    "        QThread.msleep(500)\n",
    "        print(\"Trabalhando...\")\n",
    "        \n",
    "def processa_acao(acao):\n",
    "    if id(acao1)==id(acao):\n",
    "        print(\"Ação 1\")\n",
    "    print(\"Botão pressionado:\" + acao.text())\n",
    "\n",
    "app = QApplication(sys.argv)\n",
    "window = QMainWindow()\n",
    "window.setFixedSize(640,480)\n",
    "window.setWindowTitle(\"Janela Azul\")\n",
    "cores = QPalette(app.palette(window))\n",
    "cores.setColor(QPalette.Window, Qt.blue)\n",
    "window.setPalette(cores)\n",
    "\n",
    "barra = window.addToolBar(\"\")\n",
    "window.setCentralWidget(QWidget())\n",
    "window.centralWidget().setPalette(cores)\n",
    "window.centralWidget().setAutoFillBackground(True)\n",
    "# Define uma thread nova que fica imprimindo\n",
    "trabalhador = QThread()\n",
    "trabalhador.run = trabalho\n",
    "trabalhador.start()\n",
    "# Adiciona a deteccao dos botoes\n",
    "acao1 = barra.addAction(\"Novo Botão\")\n",
    "barra.addAction(\"Outro Botão\")\n",
    "barra.addAction(\"Maisotobutaun\")\n",
    "barra.addAction(\"Maisotobutaun\")\n",
    "barra.addAction(\"Maisotobutaun\")\n",
    "barra.addAction(\"Maisotobutaun\")\n",
    "barra.addAction(\"Maisotobutaun\")\n",
    "barra.addAction(\"Maisotobutaun\")\n",
    "\n",
    "barra.actionTriggered.connect(processa_acao)\n",
    "window.show()\n",
    "\n",
    "window.closeEvent = adeus\n",
    "app.exec()"
   ]
  },
  {
   "cell_type": "markdown",
   "metadata": {},
   "source": [
    "# Código fonte do arquivo pyqt3.py"
   ]
  },
  {
   "cell_type": "code",
   "execution_count": 1,
   "metadata": {},
   "outputs": [
    {
     "output_type": "stream",
     "name": "stdout",
     "text": "Trabalhando...\nTrabalhando...\nTrabalhando...\nTrabalhando...\nTrabalhando...\nTrabalhando...\nTrabalhando...\nTrabalhando...\nTrabalhando...\nTrabalhando...\nTrabalhando...\nTrabalhando...\nTrabalhando...\nTrabalhando...\nTrabalhando...\nTrabalhando...\nTrabalhando...\nTrabalhando...\nTrabalhando...\nTrabalhando...\nTrabalhando...\nTrabalhando...\nTrabalhando...\nTrabalhando...\nTrabalhando...\nTrabalhando...\nTrabalhando...\nTrabalhando...\nTrabalhando...\nTrabalhando...\nTrabalhando...\nTrabalhando...\nTrabalhando...\nTrabalhando...\nTrabalhando...\nTrabalhando...\nTrabalhando...\nTrabalhando...\nTrabalhando...\nTrabalhando...\nTrabalhando...\nTrabalhando...\nTrabalhando...\nTrabalhando...\nTrabalhando...\nTrabalhando...\nTrabalhando...\nTrabalhando...\nTrabalhando...\nTrabalhando...\nTrabalhando...\nTrabalhando...\nAdeus\n"
    },
    {
     "output_type": "execute_result",
     "data": {
      "text/plain": "0"
     },
     "metadata": {},
     "execution_count": 1
    }
   ],
   "source": [
    "import sys\n",
    "from PyQt5.QtGui import QPalette\n",
    "from PyQt5.QtWidgets import QApplication, QMainWindow, QToolBar, QWidget, QPushButton, QLabel\n",
    "from PyQt5.QtCore import Qt, QThread, QRunnable\n",
    "\n",
    "def adeus(x):\n",
    "    print(\"Adeus\")\n",
    "    trabalhador.terminate()\n",
    "    app.quit()\n",
    "    \n",
    "def trabalho():\n",
    "    while True:\n",
    "        QThread.msleep(500)\n",
    "        print(\"Trabalhando...\")\n",
    "\n",
    "app = QApplication(sys.argv)\n",
    "# define janela e cores\n",
    "window = QMainWindow()\n",
    "window.setFixedSize(640,480)\n",
    "window.setWindowTitle(\"Janela Azul\")\n",
    "cores = QPalette(app.palette(window))\n",
    "cores.setColor(QPalette.Window, Qt.blue)\n",
    "# cria um ToolBar, associa QWidget a Window, seta cores\n",
    "barra = window.addToolBar(\"\")\n",
    "window.setCentralWidget(QWidget())\n",
    "window.centralWidget().setPalette(cores)\n",
    "window.centralWidget().setAutoFillBackground(True)\n",
    "# define uma thread nova\n",
    "trabalhador = QThread()\n",
    "trabalhador.run = trabalho\n",
    "trabalhador.start()\n",
    "# adiciona um  botão\n",
    "barra.addAction(\"Novo Botão\")\n",
    "barra.addAction(\"Outro Botão\")\n",
    "window.show()\n",
    "window.closeEvent = adeus\n",
    "app.exec()"
   ]
  },
  {
   "cell_type": "markdown",
   "metadata": {},
   "source": [
    "# Código fonte do arquivo pyqt4.py"
   ]
  },
  {
   "cell_type": "code",
   "execution_count": 1,
   "metadata": {},
   "outputs": [
    {
     "output_type": "stream",
     "name": "stdout",
     "text": "Trabalhando...\nTrabalhando...\nTrabalhando...\nTrabalhando...\nTrabalhando...\nAção 1\nBotão pressionado:Novo Botão\nTrabalhando...\nTrabalhando...\nTrabalhando...\nBotão pressionado:Outro Botão\nTrabalhando...\nTrabalhando...\nTrabalhando...\nTrabalhando...\nTrabalhando...\nTrabalhando...\nTrabalhando...\nTrabalhando...\nTrabalhando...\nTrabalhando...\nTrabalhando...\nTrabalhando...\nTrabalhando...\nTrabalhando...\nTrabalhando...\nTrabalhando...\nTrabalhando...\nTrabalhando...\nTrabalhando...\nTrabalhando...\nTrabalhando...\nTrabalhando...\nTrabalhando...\nAdeus\n"
    },
    {
     "output_type": "execute_result",
     "data": {
      "text/plain": "0"
     },
     "metadata": {},
     "execution_count": 1
    }
   ],
   "source": [
    "import sys\n",
    "from PyQt5.QtGui import QPalette\n",
    "from PyQt5.QtWidgets import QApplication, QMainWindow, QToolBar, QWidget, QPushButton, QLabel, QTextEdit\n",
    "from PyQt5.QtCore import Qt, QThread, QRunnable\n",
    "\n",
    "\n",
    "def adeus(x):\n",
    "    print(\"Adeus\")\n",
    "    trabalhador.terminate()\n",
    "    app.quit()\n",
    "    \n",
    "def trabalho():\n",
    "    while True:\n",
    "        QThread.msleep(500)\n",
    "        print(\"Trabalhando...\")\n",
    "        \n",
    "def processa_acao(acao):\n",
    "    if id(acao1)==id(acao):\n",
    "        print(\"Ação 1\")\n",
    "    print(\"Botão pressionado:\" + acao.text())\n",
    "\n",
    "app = QApplication(sys.argv)\n",
    "window = QMainWindow()\n",
    "window.setFixedSize(640,480)\n",
    "window.setWindowTitle(\"Janela Azul\")\n",
    "cores = QPalette(app.palette(window))\n",
    "cores.setColor(QPalette.Window, Qt.blue)\n",
    "\n",
    "barra = window.addToolBar(\"\")\n",
    "# cria o text box\n",
    "window.setCentralWidget(QTextEdit())\n",
    "window.centralWidget().setAutoFillBackground(True)\n",
    "\n",
    "trabalhador = QThread()\n",
    "trabalhador.run = trabalho\n",
    "trabalhador.start()\n",
    "\n",
    "acao1 = barra.addAction(\"Novo Botão\")\n",
    "barra.addAction(\"Outro Botão\")\n",
    "barra.actionTriggered.connect(processa_acao)\n",
    "window.show()\n",
    "# Insire a string relativa a acao atraves de append\n",
    "barra.actionTriggered.connect(lambda acao : window.centralWidget().append(acao.text()))\n",
    "\n",
    "window.closeEvent = adeus\n",
    "app.exec()"
   ]
  },
  {
   "cell_type": "code",
   "execution_count": null,
   "metadata": {},
   "outputs": [],
   "source": []
  }
 ],
 "metadata": {
  "kernelspec": {
   "display_name": "Python 3.8.2 64-bit",
   "language": "python",
   "name": "python38264bit10c4bc1a77994878a51768afd5b3b08a"
  },
  "language_info": {
   "codemirror_mode": {
    "name": "ipython",
    "version": 3
   },
   "file_extension": ".py",
   "mimetype": "text/x-python",
   "name": "python",
   "nbconvert_exporter": "python",
   "pygments_lexer": "ipython3",
   "version": "3.8.2-final"
  }
 },
 "nbformat": 4,
 "nbformat_minor": 4
}