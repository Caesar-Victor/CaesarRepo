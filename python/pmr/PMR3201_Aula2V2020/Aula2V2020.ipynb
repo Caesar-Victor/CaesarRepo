{
 "cells": [
  {
   "cell_type": "markdown",
   "metadata": {},
   "source": [
    "# Código fonte dicionario.py"
   ]
  },
  {
   "cell_type": "code",
   "execution_count": null,
   "metadata": {},
   "outputs": [],
   "source": [
    "dict = {'Name': 'Maria', 'Age': 7, 'Class': 'First'}\n",
    "\n",
    "print(\"dict['Name']: \", dict['Name'])\n",
    "print(\"dict['Age']: \", dict['Age'])\n",
    "print(\"dict['Class']: \", dict['Class'])"
   ]
  },
  {
   "cell_type": "markdown",
   "metadata": {},
   "source": [
    "# Código fonte: tuplas.py"
   ]
  },
  {
   "cell_type": "code",
   "execution_count": null,
   "metadata": {},
   "outputs": [],
   "source": [
    "tup1 = ('physics', 'chemistry', 1997, 2000);\n",
    "tup2 = (1, 2, 3, 4, 5 );\n",
    "tup3 = \"a\", \"b\", \"c\", \"d\";   # repare que parenteses podem ser omitidos\n",
    "print(\"tup1:\",tup1);\n",
    "print(\"tup2:\",tup2);\n",
    "print(\"tup3:\",tup3);\n",
    "tup1[0]=10;             # operacao impossivel pois tuplas nao podem ser modificadas"
   ]
  },
  {
   "cell_type": "markdown",
   "metadata": {},
   "source": [
    "# Código fonte: dog.py"
   ]
  },
  {
   "cell_type": "code",
   "execution_count": null,
   "metadata": {},
   "outputs": [],
   "source": [
    "class Dog():\n",
    "    \"\"\"A simple attempt to model a dog.\"\"\"\n",
    "    \n",
    "    def __init__(self, name, age):\n",
    "        \"\"\"Initialize name and age attributes.\"\"\"\n",
    "        self.name = name\n",
    "        self.age = age\n",
    "        \n",
    "    def sit(self):\n",
    "        \"\"\"Simulate a dog sitting in response to a command.\"\"\"\n",
    "        print(self.name.title() + \" is now sitting.\")\n",
    "\n",
    "    def roll_over(self):\n",
    "        \"\"\"Simulate rolling over in response to a command.\"\"\"\n",
    "        print(self.name.title() + \" rolled over!\")\n",
    "my_dog = Dog('willie',6)\n",
    "\n",
    "print('my_dog.name =',my_dog.name)\n",
    "print('my_dog.age =',my_dog.age)\n",
    "my_dog.sit()\n",
    "my_dog.roll_over()"
   ]
  },
  {
   "cell_type": "markdown",
   "metadata": {},
   "source": [
    " # Código fonte: circle0.py"
   ]
  },
  {
   "cell_type": "code",
   "execution_count": null,
   "metadata": {
    "scrolled": true
   },
   "outputs": [],
   "source": [
    "import math\n",
    "class Circle():\n",
    "   def __init__( self, name = 'circle',x = 0, y = 0, radius = 0.0 ):\n",
    "      self.name = name\n",
    "      self.x = float( x )                # forcing to be float if it is not !\n",
    "      self.y = float( y )\n",
    "      self.radius = float( radius )\n",
    "\n",
    "   def area( self ):\n",
    "      return math.pi * self.radius ** 2\n",
    "\n",
    "def main():\n",
    "    a=Circle('Circ0',1,1,3)\n",
    "    # examinando o conteudo interno do objeto a\n",
    "    print('Conteudo interno do objeto a')\n",
    "    print('a.name=',a.name)\n",
    "    print('a.x=',a.x)\n",
    "    print('a.y=',a.y)\n",
    "    print('a.radius=',a.radius)\n",
    "    print('Area do Circulo',a.name,'=',a.area(),'\\n')\n",
    "    \n",
    "    # Cria objeto b, Circle com valores default\n",
    "    b=Circle()\n",
    "    # examinando o conteudo interno do objeto b\n",
    "    print('Conteudo interno do objeto b - Valores default')\n",
    "    print('b.name=',b.name)\n",
    "    print('b.x=',b.x)\n",
    "    print('b.y=',b.y)\n",
    "    print('b.radius=',b.radius)\n",
    "    print('Area do Circulo',b.name,'=',b.area(),'\\n')\n",
    "if __name__ == \"__main__\": main()"
   ]
  },
  {
   "cell_type": "markdown",
   "metadata": {},
   "source": [
    "# Código fonte: circle1.py"
   ]
  },
  {
   "cell_type": "code",
   "execution_count": null,
   "metadata": {},
   "outputs": [],
   "source": [
    "import math\n",
    "class Circle():\n",
    "   def __init__( self, name = 'circle',x = 0, y = 0, radius = 0.0 ):\n",
    "      self.name = name\n",
    "      self.x = float( x )                # forcing to be float if it is not !\n",
    "      self.y = float( y )\n",
    "      self.radius = float( radius )\n",
    "\n",
    "   def area( self ):\n",
    "      return math.pi * self.radius ** 2\n",
    "\n",
    "def main():\n",
    "    lista_de_circulos=[]   # lista aonde sera armazenado os objetos do tipo circulo\n",
    "    # Lista com parametros que definem circulos\n",
    "    # x,y,radius\n",
    "    parametros_do_circulo = [[1.0,2.0,3.0],[1.5,2.0,4.0],[2.0,2.0,1.0],[1.5,3.0,1.0]]\n",
    "    numero_de_circulos = len(parametros_do_circulo)\n",
    "    for k in range(numero_de_circulos):\n",
    "        # nome do circulo é gerado como 'Circle'+str(k)\n",
    "        a = Circle('Circle'+str(k),parametros_do_circulo[k][0], parametros_do_circulo[k][1], parametros_do_circulo[k][2])\n",
    "        lista_de_circulos.append(a) # insere novo circulo na lista\n",
    "    # checa o conteudo de cada objeto do tipo circulo contido na lista\n",
    "    for k in range(numero_de_circulos):\n",
    "        print('Nome do circulo =',lista_de_circulos[k].name)\n",
    "        print('cordenada x =',lista_de_circulos[k].x)\n",
    "        print('cordenada y =',lista_de_circulos[k].y)\n",
    "        print('raio =',lista_de_circulos[k].radius)\n",
    "if __name__ == \"__main__\": main()"
   ]
  },
  {
   "attachments": {
    "image.png": {
     "image/png": "[encoded data removed]"
    }
   },
   "cell_type": "markdown",
   "metadata": {},
   "source": [
    "# Para você fazer:\n",
    "\n",
    "- Deseja-se verificar se para um conjunto de círculos se existem círculos\n",
    "  que possuem intersecção da área interna.\n",
    "  \n",
    "  ![image.png](attachment:image.png)\n",
    "  \n",
    "- Projete um código na linguagem Python que verifique para cada círculo se existem intersecções com os outros círculos.\n",
    "- Insira o código projetado no arquivo circle2.py.\n",
    "  \n",
    "\n",
    "# Código fonte: circle2.py"
   ]
  },
  {
   "cell_type": "code",
   "execution_count": null,
   "metadata": {},
   "outputs": [],
   "source": [
    "\n",
    "import math\n",
    "class Circle():\n",
    "   def __init__( self, name = 'circle',x = 0, y = 0, radius = 0.0 ):\n",
    "      self.name = name\n",
    "      self.x = float( x )                # forcing to be float if it is not !\n",
    "      self.y = float( y )\n",
    "      self.radius = float( radius )\n",
    "\n",
    "   def area( self ):\n",
    "      return math.pi * self.radius ** 2\n",
    "\n",
    "def main():\n",
    "    lista_de_circulos=[]   # lista aonde sera armazenado os objetos do tipo circulo\n",
    "    # Lista com parametros que definem circulos\n",
    "    # x,y,radius\n",
    "    \n",
    "    parametros_do_circulo = []\n",
    "    \n",
    "    numero_de_circulos = len(parametros_do_circulo)\n",
    "    for k in range(numero_de_circulos):\n",
    "        # nome do circulo é gerado como 'Circle'+str(k)\n",
    "        a = Circle('Circle'+str(k),parametros_do_circulo[k][0], parametros_do_circulo[k][1], parametros_do_circulo[k][2])\n",
    "        lista_de_circulos.append(a) # insere novo circulo na lista\n",
    " \n",
    "    # checa quais circulos possuem interseccoes com outros circulos\n",
    "    # raiz quadrada - math.sqrt()\n",
    "    \n",
    " \n",
    "if __name__ == \"__main__\": main()"
   ]
  }
 ],
 "metadata": {
  "kernelspec": {
   "display_name": "Python 3",
   "language": "python",
   "name": "python3"
  },
  "language_info": {
   "codemirror_mode": {
    "name": "ipython",
    "version": 3
   },
   "file_extension": ".py",
   "mimetype": "text/x-python",
   "name": "python",
   "nbconvert_exporter": "python",
   "pygments_lexer": "ipython3",
   "version": "3.7.6"
  }
 },
 "nbformat": 4,
 "nbformat_minor": 4
}
