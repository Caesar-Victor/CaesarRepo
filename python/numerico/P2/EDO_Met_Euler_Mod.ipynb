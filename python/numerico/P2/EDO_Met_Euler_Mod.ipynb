{
 "cells": [
  {
   "cell_type": "code",
   "execution_count": 2,
   "metadata": {
    "tags": []
   },
   "outputs": [
    {
     "output_type": "stream",
     "name": "stdout",
     "text": "y0 = 0.25\ny1 = inf\ny2 = inf\ny3 = inf\ny4 = inf\ny5 = inf\ny6 = inf\ny7 = inf\ny8 = inf\ny9 = inf\ny10 = inf\n"
    }
   ],
   "source": [
    "###################### PARA UMA VARIÁVEL #########################\n",
    "# dy/dx = f, ENTÃO COLOQUE f COMO A DERIVADA DE y! TAMBEM MUDE a, b, n E O VALOR DE y(0) EM y = {0: 1}\n",
    "import numpy as np\n",
    "\n",
    "f = lambda x, y: (x**(-2))*y\n",
    "a = 0\n",
    "b = 1\n",
    "n = 10\n",
    "x = np.linspace(a, b, n+1)\n",
    "h = (b-a)/n\n",
    "y = {0: 0.25}\n",
    "for l in range(len(x)-1):\n",
    "    K1 = f(x[l], y[l])\n",
    "    K2 = f(x[l+1], y[l] + h*K1)\n",
    "    y[l+1] = y[l] + h/2 * (K1 + K2)\n",
    "for key, value in y.items():\n",
    "    print(f'y{key} = {value}')"
   ]
  },
  {
   "cell_type": "code",
   "execution_count": 6,
   "metadata": {
    "tags": []
   },
   "outputs": [
    {
     "output_type": "error",
     "ename": "KeyError",
     "evalue": "1",
     "traceback": [
      "\u001b[0;31m---------------------------------------------------------------------------\u001b[0m",
      "\u001b[0;31mKeyError\u001b[0m                                  Traceback (most recent call last)",
      "\u001b[0;32m<ipython-input-6-f030fd79d1ee>\u001b[0m in \u001b[0;36m<module>\u001b[0;34m\u001b[0m\n\u001b[1;32m     14\u001b[0m     \u001b[0mK1\u001b[0m \u001b[0;34m=\u001b[0m \u001b[0;34m{\u001b[0m\u001b[0;34m'K11'\u001b[0m\u001b[0;34m:\u001b[0m \u001b[0mfy\u001b[0m\u001b[0;34m(\u001b[0m\u001b[0mx\u001b[0m\u001b[0;34m[\u001b[0m\u001b[0ml\u001b[0m\u001b[0;34m]\u001b[0m\u001b[0;34m,\u001b[0m \u001b[0my\u001b[0m\u001b[0;34m[\u001b[0m\u001b[0ml\u001b[0m\u001b[0;34m]\u001b[0m\u001b[0;34m,\u001b[0m \u001b[0mz\u001b[0m\u001b[0;34m[\u001b[0m\u001b[0ml\u001b[0m\u001b[0;34m]\u001b[0m\u001b[0;34m)\u001b[0m\u001b[0;34m}\u001b[0m\u001b[0;34m\u001b[0m\u001b[0;34m\u001b[0m\u001b[0m\n\u001b[1;32m     15\u001b[0m     \u001b[0mK2\u001b[0m \u001b[0;34m=\u001b[0m \u001b[0;34m{\u001b[0m\u001b[0;34m'K21'\u001b[0m\u001b[0;34m:\u001b[0m \u001b[0mfy\u001b[0m\u001b[0;34m(\u001b[0m\u001b[0mx\u001b[0m\u001b[0;34m[\u001b[0m\u001b[0ml\u001b[0m\u001b[0;34m]\u001b[0m\u001b[0;34m,\u001b[0m \u001b[0my\u001b[0m\u001b[0;34m[\u001b[0m\u001b[0ml\u001b[0m\u001b[0;34m]\u001b[0m\u001b[0;34m,\u001b[0m \u001b[0mz\u001b[0m\u001b[0;34m[\u001b[0m\u001b[0ml\u001b[0m\u001b[0;34m]\u001b[0m\u001b[0;34m)\u001b[0m\u001b[0;34m,\u001b[0m \u001b[0;34m'K31'\u001b[0m\u001b[0;34m:\u001b[0m \u001b[0mfz\u001b[0m\u001b[0;34m(\u001b[0m\u001b[0mx\u001b[0m\u001b[0;34m[\u001b[0m\u001b[0ml\u001b[0m\u001b[0;34m]\u001b[0m\u001b[0;34m,\u001b[0m \u001b[0my\u001b[0m\u001b[0;34m[\u001b[0m\u001b[0ml\u001b[0m\u001b[0;34m]\u001b[0m\u001b[0;34m,\u001b[0m \u001b[0mz\u001b[0m\u001b[0;34m[\u001b[0m\u001b[0ml\u001b[0m\u001b[0;34m]\u001b[0m\u001b[0;34m)\u001b[0m\u001b[0;34m}\u001b[0m\u001b[0;34m\u001b[0m\u001b[0;34m\u001b[0m\u001b[0m\n\u001b[0;32m---> 16\u001b[0;31m     \u001b[0mK3\u001b[0m \u001b[0;34m=\u001b[0m \u001b[0;34m{\u001b[0m\u001b[0;34m'K13'\u001b[0m\u001b[0;34m:\u001b[0m \u001b[0mfy\u001b[0m\u001b[0;34m(\u001b[0m\u001b[0mx\u001b[0m\u001b[0;34m[\u001b[0m\u001b[0ml\u001b[0m\u001b[0;34m+\u001b[0m\u001b[0;36m1\u001b[0m\u001b[0;34m]\u001b[0m\u001b[0;34m,\u001b[0m \u001b[0my\u001b[0m\u001b[0;34m[\u001b[0m\u001b[0ml\u001b[0m\u001b[0;34m]\u001b[0m \u001b[0;34m+\u001b[0m \u001b[0mh\u001b[0m\u001b[0;34m*\u001b[0m\u001b[0mK1\u001b[0m\u001b[0;34m[\u001b[0m\u001b[0;34m'K11'\u001b[0m\u001b[0;34m]\u001b[0m\u001b[0;34m,\u001b[0m \u001b[0mz\u001b[0m\u001b[0;34m[\u001b[0m\u001b[0ml\u001b[0m\u001b[0;34m]\u001b[0m \u001b[0;34m+\u001b[0m \u001b[0mh\u001b[0m\u001b[0;34m*\u001b[0m\u001b[0mK1\u001b[0m\u001b[0;34m[\u001b[0m\u001b[0;34m'K21'\u001b[0m\u001b[0;34m]\u001b[0m\u001b[0;34m)\u001b[0m\u001b[0;34m,\u001b[0m \u001b[0;34m'K23'\u001b[0m\u001b[0;34m:\u001b[0m \u001b[0mfz\u001b[0m\u001b[0;34m(\u001b[0m\u001b[0mx\u001b[0m\u001b[0;34m[\u001b[0m\u001b[0ml\u001b[0m\u001b[0;34m+\u001b[0m\u001b[0;36m1\u001b[0m\u001b[0;34m]\u001b[0m\u001b[0;34m,\u001b[0m \u001b[0my\u001b[0m\u001b[0;34m[\u001b[0m\u001b[0ml\u001b[0m\u001b[0;34m]\u001b[0m \u001b[0;34m+\u001b[0m \u001b[0mh\u001b[0m\u001b[0;34m*\u001b[0m\u001b[0mK1\u001b[0m\u001b[0;34m[\u001b[0m\u001b[0;34m'K11'\u001b[0m\u001b[0;34m]\u001b[0m\u001b[0;34m,\u001b[0m \u001b[0mz\u001b[0m\u001b[0;34m[\u001b[0m\u001b[0ml\u001b[0m\u001b[0;34m]\u001b[0m \u001b[0;34m+\u001b[0m \u001b[0mh\u001b[0m\u001b[0;34m*\u001b[0m\u001b[0mK1\u001b[0m\u001b[0;34m[\u001b[0m\u001b[0;34m'K21'\u001b[0m\u001b[0;34m]\u001b[0m\u001b[0;34m)\u001b[0m\u001b[0;34m}\u001b[0m\u001b[0;34m\u001b[0m\u001b[0;34m\u001b[0m\u001b[0m\n\u001b[0m\u001b[1;32m     17\u001b[0m     \u001b[0mx\u001b[0m\u001b[0;34m[\u001b[0m\u001b[0ml\u001b[0m\u001b[0;34m+\u001b[0m\u001b[0;36m1\u001b[0m\u001b[0;34m]\u001b[0m \u001b[0;34m=\u001b[0m \u001b[0mx\u001b[0m\u001b[0;34m[\u001b[0m\u001b[0ml\u001b[0m\u001b[0;34m]\u001b[0m \u001b[0;34m+\u001b[0m \u001b[0mh\u001b[0m\u001b[0;34m/\u001b[0m\u001b[0;36m2\u001b[0m \u001b[0;34m*\u001b[0m \u001b[0;34m(\u001b[0m\u001b[0mK1\u001b[0m\u001b[0;34m[\u001b[0m\u001b[0;34m'K11'\u001b[0m\u001b[0;34m]\u001b[0m \u001b[0;34m+\u001b[0m \u001b[0mK2\u001b[0m\u001b[0;34m[\u001b[0m\u001b[0;34m'K12'\u001b[0m\u001b[0;34m]\u001b[0m \u001b[0;34m+\u001b[0m \u001b[0mK3\u001b[0m\u001b[0;34m[\u001b[0m\u001b[0;34m'K13'\u001b[0m\u001b[0;34m]\u001b[0m\u001b[0;34m)\u001b[0m\u001b[0;34m\u001b[0m\u001b[0;34m\u001b[0m\u001b[0m\n\u001b[1;32m     18\u001b[0m     \u001b[0my\u001b[0m\u001b[0;34m[\u001b[0m\u001b[0ml\u001b[0m\u001b[0;34m+\u001b[0m\u001b[0;36m1\u001b[0m\u001b[0;34m]\u001b[0m \u001b[0;34m=\u001b[0m \u001b[0my\u001b[0m\u001b[0;34m[\u001b[0m\u001b[0ml\u001b[0m\u001b[0;34m]\u001b[0m \u001b[0;34m+\u001b[0m \u001b[0mh\u001b[0m\u001b[0;34m/\u001b[0m\u001b[0;36m2\u001b[0m \u001b[0;34m*\u001b[0m \u001b[0;34m(\u001b[0m\u001b[0mK1\u001b[0m\u001b[0;34m[\u001b[0m\u001b[0;34m'K21'\u001b[0m\u001b[0;34m]\u001b[0m \u001b[0;34m+\u001b[0m \u001b[0mK2\u001b[0m\u001b[0;34m[\u001b[0m\u001b[0;34m'K22'\u001b[0m\u001b[0;34m]\u001b[0m \u001b[0;34m+\u001b[0m \u001b[0mK3\u001b[0m\u001b[0;34m[\u001b[0m\u001b[0;34m'K23'\u001b[0m\u001b[0;34m]\u001b[0m\u001b[0;34m)\u001b[0m\u001b[0;34m\u001b[0m\u001b[0;34m\u001b[0m\u001b[0m\n",
      "\u001b[0;31mKeyError\u001b[0m: 1"
     ]
    }
   ],
   "source": [
    "################################ PARA SISTEMA DE EDOs ########################\n",
    "# dy/dx = fy, d2y/dx = z2linhas = fz, ENTÃO COLOQUE DE ACORDO. MUDAR a, b, n E OS VALORES DE y(0) E z(0)\n",
    "fx = lambda x, y, z: (-1/125) * x * y \n",
    "fy = lambda x, y, z: (1/125) * x * y - (3/50) * y\n",
    "fz = lambda x, y, z: (3/50) * y\n",
    "a = 0\n",
    "b = 2.5\n",
    "n = 10\n",
    "h = 1\n",
    "x = {0: 122}\n",
    "y = {0: 10}\n",
    "z = {0: 3}\n",
    "for l in range(len(x)):\n",
    "    K1 = {'K11': fy(x[l], y[l], z[l])}\n",
    "    K2 = {'K21': fy(x[l], y[l], z[l]), 'K31': fz(x[l], y[l], z[l])}\n",
    "    K3 = {'K23': fy(x[l+1], y[l] + h*K1['K11'], z[l] + h*K1['K21']), 'K33': fz(x[l+1], y[l] + h*K1['K11'], z[l] + h*K1['K21'])}\n",
    "    x[l+1] = x[l] + h/2 * (K1['K11'] + K2['K12'] + K3['K13'])\n",
    "    y[l+1] = y[l] + h/2 * (K1['K21'] + K2['K22'] + K3['K23'])\n",
    "    z[l+1] = z[l] + h/2 * (K1['K31'] + K2['K32'] + K3['K33'])\n",
    "\n",
    "for tupy, tupz in zip(y.items(), z.items()):\n",
    "    print(f'y{tupy[0]} = {tupy[1]}')\n",
    "    print(f'z{tupz[0]} = {tupz[1]}')"
   ]
  },
  {
   "cell_type": "code",
   "execution_count": null,
   "metadata": {},
   "outputs": [],
   "source": []
  }
 ],
 "metadata": {
  "kernelspec": {
   "display_name": "Python 3",
   "language": "python",
   "name": "python3"
  },
  "language_info": {
   "codemirror_mode": {
    "name": "ipython",
    "version": 3
   },
   "file_extension": ".py",
   "mimetype": "text/x-python",
   "name": "python",
   "nbconvert_exporter": "python",
   "pygments_lexer": "ipython3",
   "version": "3.7.7"
  }
 },
 "nbformat": 4,
 "nbformat_minor": 2
}